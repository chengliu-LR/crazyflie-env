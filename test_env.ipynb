{
 "cells": [
  {
   "cell_type": "code",
   "execution_count": 1,
   "metadata": {},
   "outputs": [
    {
     "name": "stdout",
     "output_type": "stream",
     "text": [
      "reward: False\n",
      "0\n",
      "reward: False\n",
      "1\n",
      "reward: False\n",
      "3\n",
      "reward: True\n",
      "6\n",
      "reward: True\n",
      "10\n",
      "reward: True\n",
      "15\n",
      "reward: True\n",
      "21\n",
      "reward: True\n",
      "28\n",
      "reward: True\n",
      "36\n",
      "reward: True\n",
      "45\n"
     ]
    }
   ],
   "source": [
    "import gym\n",
    "import crazyflie_env\n",
    "\n",
    "env = gym.make(\"CrazyflieEnv-v0\")\n",
    "env.reset()\n",
    "\n",
    "for i in range(10):\n",
    "    env.step(i)\n",
    "    env.render()"
   ]
  }
 ],
 "metadata": {
  "interpreter": {
   "hash": "aee8b7b246df8f9039afb4144a1f6fd8d2ca17a180786b69acc140d282b71a49"
  },
  "kernelspec": {
   "display_name": "Python 3.6.5 64-bit",
   "language": "python",
   "name": "python3"
  },
  "language_info": {
   "codemirror_mode": {
    "name": "ipython",
    "version": 3
   },
   "file_extension": ".py",
   "mimetype": "text/x-python",
   "name": "python",
   "nbconvert_exporter": "python",
   "pygments_lexer": "ipython3",
   "version": "3.6.5"
  },
  "orig_nbformat": 4
 },
 "nbformat": 4,
 "nbformat_minor": 2
}
